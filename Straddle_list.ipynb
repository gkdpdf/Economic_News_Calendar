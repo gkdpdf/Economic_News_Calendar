{
 "cells": [
  {
   "cell_type": "code",
   "execution_count": 116,
   "metadata": {},
   "outputs": [],
   "source": [
    "from selenium import webdriver\n",
    "from selenium.webdriver.common.by import By\n",
    "from selenium.webdriver.chrome.options import Options\n",
    "import pandas as pd\n",
    "import time\n",
    "from datetime import datetime"
   ]
  },
  {
   "cell_type": "code",
   "execution_count": 117,
   "metadata": {},
   "outputs": [],
   "source": [
    "driver=webdriver.Chrome(r\"D:\\adobe\\chromedriver\\chromedriver-win64\\chromedriver.exe\")\n",
    "\n",
    "website= 'https://web.sensibull.com/stock-market-calendar?tab=stock-results'"
   ]
  },
  {
   "cell_type": "code",
   "execution_count": 118,
   "metadata": {},
   "outputs": [],
   "source": [
    "driver.get(website)\n",
    "time.sleep(3)"
   ]
  },
  {
   "cell_type": "code",
   "execution_count": 119,
   "metadata": {},
   "outputs": [],
   "source": [
    "# Use the XPath expression to find the elements containing the date information\n",
    "date_elements = driver.find_elements_by_xpath(\n",
    "    \"//div[contains(@class, 'rt-tbody')]/div[contains(@class, 'rt-tr-group')]/div[contains(@class, 'rt-tr')]/div[contains(@class, 'rt-td')][1]/div/div[1]\"\n",
    ")\n",
    "time.sleep(5)"
   ]
  },
  {
   "cell_type": "code",
   "execution_count": 120,
   "metadata": {},
   "outputs": [],
   "source": [
    "a=[]\n",
    "# Extract and print the date information\n",
    "for date_element in date_elements:\n",
    "    date_info = date_element.text\n",
    "    a.append(date_info)\n",
    "    #print(date_info)\n"
   ]
  },
  {
   "cell_type": "code",
   "execution_count": 121,
   "metadata": {},
   "outputs": [],
   "source": [
    "a = [item for item in a if item != '']\n"
   ]
  },
  {
   "cell_type": "code",
   "execution_count": 122,
   "metadata": {},
   "outputs": [],
   "source": [
    "#len(a)"
   ]
  },
  {
   "cell_type": "code",
   "execution_count": 123,
   "metadata": {},
   "outputs": [],
   "source": [
    "# Use the modified XPath expression to find the elements containing the company names\n",
    "company_elements = driver.find_elements_by_xpath(\n",
    "    \"//div[contains(@class, 'rt-tbody')]/div[contains(@class, 'rt-tr-group')]/div[contains(@class, 'rt-tr')]/div[contains(@class, 'rt-td')][2]/div/div\"\n",
    ")\n"
   ]
  },
  {
   "cell_type": "code",
   "execution_count": 124,
   "metadata": {},
   "outputs": [],
   "source": [
    "company_elements=company_elements[24:]\n",
    "c=[]\n",
    "# Extract and print the company names\n",
    "for company_element in company_elements:\n",
    "    company_name = company_element.text\n",
    "    c.append(company_name)\n"
   ]
  },
  {
   "cell_type": "code",
   "execution_count": 125,
   "metadata": {},
   "outputs": [],
   "source": [
    "#len(c)"
   ]
  },
  {
   "cell_type": "code",
   "execution_count": 126,
   "metadata": {},
   "outputs": [],
   "source": [
    "# Use the modified XPath expression to find the elements containing the information within <small> and <span>\n",
    "info_elements = driver.find_elements_by_xpath(\n",
    "    \"//div[contains(@class, 'rt-tbody')]/div[contains(@class, 'rt-tr-group')]/div[contains(@class, 'rt-tr')]/div[contains(@class, 'rt-td')][2]/div/small\"\n",
    ")\n",
    "\n",
    "atm_pr=[]\n",
    "# Extract and print the information within <small> and <span>\n",
    "for info_element in info_elements:\n",
    "    info_text = info_element.text\n",
    "    atm_pr.append(info_text)\n"
   ]
  },
  {
   "cell_type": "code",
   "execution_count": 127,
   "metadata": {},
   "outputs": [],
   "source": [
    "#len(atm_pr)"
   ]
  },
  {
   "cell_type": "code",
   "execution_count": 128,
   "metadata": {},
   "outputs": [],
   "source": [
    "# Use the modified XPath expression to find the elements containing the information within nested <div> elements\n",
    "nested_div_elements = driver.find_elements_by_xpath(\n",
    "    \"//div[contains(@class, 'rt-tbody')]/div[contains(@class, 'rt-tr-group')]/div[contains(@class, 'rt-tr')]/div[contains(@class, 'rt-td')][3]/div/div[1]\"\n",
    ")\n",
    "\n",
    "atm_iv =[]\n",
    "# Extract and print the information within nested <div> elements\n",
    "for nested_div_element in nested_div_elements:\n",
    "    nested_div_text = nested_div_element.text\n",
    "    atm_iv.append(nested_div_text)\n"
   ]
  },
  {
   "cell_type": "code",
   "execution_count": 129,
   "metadata": {},
   "outputs": [],
   "source": [
    "#len(atm_iv)"
   ]
  },
  {
   "cell_type": "code",
   "execution_count": 130,
   "metadata": {},
   "outputs": [],
   "source": [
    "# Use the modified XPath expression to find the elements containing the information within nested <div> elements\n",
    "nested_div_elements = driver.find_elements_by_xpath(\n",
    "    \"//div[contains(@class, 'rt-tbody')]/div[contains(@class, 'rt-tr-group')]/div[contains(@class, 'rt-tr')]/div[contains(@class, 'rt-td')][3]/div/div[2]\"\n",
    ")\n",
    "\n",
    "atm_ivp =[]\n",
    "# Extract and print the information within nested <div> elements\n",
    "for nested_div_element in nested_div_elements:\n",
    "    nested_div_text = nested_div_element.text\n",
    "    atm_ivp.append(nested_div_text)\n"
   ]
  },
  {
   "cell_type": "code",
   "execution_count": 131,
   "metadata": {},
   "outputs": [
    {
     "data": {
      "text/plain": [
       "95"
      ]
     },
     "execution_count": 131,
     "metadata": {},
     "output_type": "execute_result"
    }
   ],
   "source": [
    "len(atm_ivp)"
   ]
  },
  {
   "cell_type": "code",
   "execution_count": 132,
   "metadata": {},
   "outputs": [
    {
     "ename": "ValueError",
     "evalue": "All arrays must be of the same length",
     "output_type": "error",
     "traceback": [
      "\u001b[1;31m---------------------------------------------------------------------------\u001b[0m",
      "\u001b[1;31mValueError\u001b[0m                                Traceback (most recent call last)",
      "Cell \u001b[1;32mIn[132], line 1\u001b[0m\n\u001b[1;32m----> 1\u001b[0m Final_df \u001b[38;5;241m=\u001b[39m \u001b[43mpd\u001b[49m\u001b[38;5;241;43m.\u001b[39;49m\u001b[43mDataFrame\u001b[49m\u001b[43m(\u001b[49m\u001b[43m{\u001b[49m\u001b[43m \u001b[49m\u001b[38;5;124;43m\"\u001b[39;49m\u001b[38;5;124;43mDate of Result\u001b[39;49m\u001b[38;5;124;43m\"\u001b[39;49m\u001b[43m \u001b[49m\u001b[43m:\u001b[49m\u001b[43ma\u001b[49m\u001b[43m,\u001b[49m\n\u001b[0;32m      2\u001b[0m \u001b[43m    \u001b[49m\n\u001b[0;32m      3\u001b[0m \u001b[43m                        \u001b[49m\u001b[38;5;124;43m\"\u001b[39;49m\u001b[38;5;124;43mScript\u001b[39;49m\u001b[38;5;124;43m\"\u001b[39;49m\u001b[43m \u001b[49m\u001b[43m:\u001b[49m\u001b[43mc\u001b[49m\u001b[43m,\u001b[49m\n\u001b[0;32m      4\u001b[0m \n\u001b[0;32m      5\u001b[0m \u001b[43m                          \u001b[49m\u001b[38;5;124;43m\"\u001b[39;49m\u001b[38;5;124;43mATM Price\u001b[39;49m\u001b[38;5;124;43m\"\u001b[39;49m\u001b[43m \u001b[49m\u001b[43m:\u001b[49m\u001b[43m \u001b[49m\u001b[43matm_pr\u001b[49m\u001b[43m,\u001b[49m\n\u001b[0;32m      6\u001b[0m \n\u001b[0;32m      7\u001b[0m \u001b[43m                          \u001b[49m\u001b[38;5;124;43m\"\u001b[39;49m\u001b[38;5;124;43mATM IV\u001b[39;49m\u001b[38;5;124;43m\"\u001b[39;49m\u001b[43m \u001b[49m\u001b[43m:\u001b[49m\u001b[43matm_iv\u001b[49m\u001b[43m,\u001b[49m\n\u001b[0;32m      8\u001b[0m \u001b[43m                          \u001b[49m\u001b[38;5;124;43m\"\u001b[39;49m\u001b[38;5;124;43mIVP\u001b[39;49m\u001b[38;5;124;43m\"\u001b[39;49m\u001b[43m \u001b[49m\u001b[43m:\u001b[49m\u001b[43m \u001b[49m\u001b[43matm_ivp\u001b[49m\n\u001b[0;32m      9\u001b[0m \n\u001b[0;32m     10\u001b[0m \u001b[43m}\u001b[49m\u001b[43m)\u001b[49m\n",
      "File \u001b[1;32mc:\\Users\\lolu\\AppData\\Local\\Programs\\Python\\Python310\\lib\\site-packages\\pandas\\core\\frame.py:733\u001b[0m, in \u001b[0;36mDataFrame.__init__\u001b[1;34m(self, data, index, columns, dtype, copy)\u001b[0m\n\u001b[0;32m    727\u001b[0m     mgr \u001b[38;5;241m=\u001b[39m \u001b[38;5;28mself\u001b[39m\u001b[38;5;241m.\u001b[39m_init_mgr(\n\u001b[0;32m    728\u001b[0m         data, axes\u001b[38;5;241m=\u001b[39m{\u001b[38;5;124m\"\u001b[39m\u001b[38;5;124mindex\u001b[39m\u001b[38;5;124m\"\u001b[39m: index, \u001b[38;5;124m\"\u001b[39m\u001b[38;5;124mcolumns\u001b[39m\u001b[38;5;124m\"\u001b[39m: columns}, dtype\u001b[38;5;241m=\u001b[39mdtype, copy\u001b[38;5;241m=\u001b[39mcopy\n\u001b[0;32m    729\u001b[0m     )\n\u001b[0;32m    731\u001b[0m \u001b[38;5;28;01melif\u001b[39;00m \u001b[38;5;28misinstance\u001b[39m(data, \u001b[38;5;28mdict\u001b[39m):\n\u001b[0;32m    732\u001b[0m     \u001b[38;5;66;03m# GH#38939 de facto copy defaults to False only in non-dict cases\u001b[39;00m\n\u001b[1;32m--> 733\u001b[0m     mgr \u001b[38;5;241m=\u001b[39m \u001b[43mdict_to_mgr\u001b[49m\u001b[43m(\u001b[49m\u001b[43mdata\u001b[49m\u001b[43m,\u001b[49m\u001b[43m \u001b[49m\u001b[43mindex\u001b[49m\u001b[43m,\u001b[49m\u001b[43m \u001b[49m\u001b[43mcolumns\u001b[49m\u001b[43m,\u001b[49m\u001b[43m \u001b[49m\u001b[43mdtype\u001b[49m\u001b[38;5;241;43m=\u001b[39;49m\u001b[43mdtype\u001b[49m\u001b[43m,\u001b[49m\u001b[43m \u001b[49m\u001b[43mcopy\u001b[49m\u001b[38;5;241;43m=\u001b[39;49m\u001b[43mcopy\u001b[49m\u001b[43m,\u001b[49m\u001b[43m \u001b[49m\u001b[43mtyp\u001b[49m\u001b[38;5;241;43m=\u001b[39;49m\u001b[43mmanager\u001b[49m\u001b[43m)\u001b[49m\n\u001b[0;32m    734\u001b[0m \u001b[38;5;28;01melif\u001b[39;00m \u001b[38;5;28misinstance\u001b[39m(data, ma\u001b[38;5;241m.\u001b[39mMaskedArray):\n\u001b[0;32m    735\u001b[0m     \u001b[38;5;28;01mfrom\u001b[39;00m \u001b[38;5;21;01mnumpy\u001b[39;00m\u001b[38;5;21;01m.\u001b[39;00m\u001b[38;5;21;01mma\u001b[39;00m \u001b[38;5;28;01mimport\u001b[39;00m mrecords\n",
      "File \u001b[1;32mc:\\Users\\lolu\\AppData\\Local\\Programs\\Python\\Python310\\lib\\site-packages\\pandas\\core\\internals\\construction.py:503\u001b[0m, in \u001b[0;36mdict_to_mgr\u001b[1;34m(data, index, columns, dtype, typ, copy)\u001b[0m\n\u001b[0;32m    499\u001b[0m     \u001b[38;5;28;01melse\u001b[39;00m:\n\u001b[0;32m    500\u001b[0m         \u001b[38;5;66;03m# dtype check to exclude e.g. range objects, scalars\u001b[39;00m\n\u001b[0;32m    501\u001b[0m         arrays \u001b[38;5;241m=\u001b[39m [x\u001b[38;5;241m.\u001b[39mcopy() \u001b[38;5;28;01mif\u001b[39;00m \u001b[38;5;28mhasattr\u001b[39m(x, \u001b[38;5;124m\"\u001b[39m\u001b[38;5;124mdtype\u001b[39m\u001b[38;5;124m\"\u001b[39m) \u001b[38;5;28;01melse\u001b[39;00m x \u001b[38;5;28;01mfor\u001b[39;00m x \u001b[38;5;129;01min\u001b[39;00m arrays]\n\u001b[1;32m--> 503\u001b[0m \u001b[38;5;28;01mreturn\u001b[39;00m \u001b[43marrays_to_mgr\u001b[49m\u001b[43m(\u001b[49m\u001b[43marrays\u001b[49m\u001b[43m,\u001b[49m\u001b[43m \u001b[49m\u001b[43mcolumns\u001b[49m\u001b[43m,\u001b[49m\u001b[43m \u001b[49m\u001b[43mindex\u001b[49m\u001b[43m,\u001b[49m\u001b[43m \u001b[49m\u001b[43mdtype\u001b[49m\u001b[38;5;241;43m=\u001b[39;49m\u001b[43mdtype\u001b[49m\u001b[43m,\u001b[49m\u001b[43m \u001b[49m\u001b[43mtyp\u001b[49m\u001b[38;5;241;43m=\u001b[39;49m\u001b[43mtyp\u001b[49m\u001b[43m,\u001b[49m\u001b[43m \u001b[49m\u001b[43mconsolidate\u001b[49m\u001b[38;5;241;43m=\u001b[39;49m\u001b[43mcopy\u001b[49m\u001b[43m)\u001b[49m\n",
      "File \u001b[1;32mc:\\Users\\lolu\\AppData\\Local\\Programs\\Python\\Python310\\lib\\site-packages\\pandas\\core\\internals\\construction.py:114\u001b[0m, in \u001b[0;36marrays_to_mgr\u001b[1;34m(arrays, columns, index, dtype, verify_integrity, typ, consolidate)\u001b[0m\n\u001b[0;32m    111\u001b[0m \u001b[38;5;28;01mif\u001b[39;00m verify_integrity:\n\u001b[0;32m    112\u001b[0m     \u001b[38;5;66;03m# figure out the index, if necessary\u001b[39;00m\n\u001b[0;32m    113\u001b[0m     \u001b[38;5;28;01mif\u001b[39;00m index \u001b[38;5;129;01mis\u001b[39;00m \u001b[38;5;28;01mNone\u001b[39;00m:\n\u001b[1;32m--> 114\u001b[0m         index \u001b[38;5;241m=\u001b[39m \u001b[43m_extract_index\u001b[49m\u001b[43m(\u001b[49m\u001b[43marrays\u001b[49m\u001b[43m)\u001b[49m\n\u001b[0;32m    115\u001b[0m     \u001b[38;5;28;01melse\u001b[39;00m:\n\u001b[0;32m    116\u001b[0m         index \u001b[38;5;241m=\u001b[39m ensure_index(index)\n",
      "File \u001b[1;32mc:\\Users\\lolu\\AppData\\Local\\Programs\\Python\\Python310\\lib\\site-packages\\pandas\\core\\internals\\construction.py:677\u001b[0m, in \u001b[0;36m_extract_index\u001b[1;34m(data)\u001b[0m\n\u001b[0;32m    675\u001b[0m lengths \u001b[38;5;241m=\u001b[39m \u001b[38;5;28mlist\u001b[39m(\u001b[38;5;28mset\u001b[39m(raw_lengths))\n\u001b[0;32m    676\u001b[0m \u001b[38;5;28;01mif\u001b[39;00m \u001b[38;5;28mlen\u001b[39m(lengths) \u001b[38;5;241m>\u001b[39m \u001b[38;5;241m1\u001b[39m:\n\u001b[1;32m--> 677\u001b[0m     \u001b[38;5;28;01mraise\u001b[39;00m \u001b[38;5;167;01mValueError\u001b[39;00m(\u001b[38;5;124m\"\u001b[39m\u001b[38;5;124mAll arrays must be of the same length\u001b[39m\u001b[38;5;124m\"\u001b[39m)\n\u001b[0;32m    679\u001b[0m \u001b[38;5;28;01mif\u001b[39;00m have_dicts:\n\u001b[0;32m    680\u001b[0m     \u001b[38;5;28;01mraise\u001b[39;00m \u001b[38;5;167;01mValueError\u001b[39;00m(\n\u001b[0;32m    681\u001b[0m         \u001b[38;5;124m\"\u001b[39m\u001b[38;5;124mMixing dicts with non-Series may lead to ambiguous ordering.\u001b[39m\u001b[38;5;124m\"\u001b[39m\n\u001b[0;32m    682\u001b[0m     )\n",
      "\u001b[1;31mValueError\u001b[0m: All arrays must be of the same length"
     ]
    }
   ],
   "source": [
    "Final_df = pd.DataFrame({ \"Date of Result\" :a,\n",
    "    \n",
    "                        \"Script\" :c,\n",
    "\n",
    "                          \"ATM Price\" : atm_pr,\n",
    "\n",
    "                          \"ATM IV\" :atm_iv,\n",
    "                          \"IVP\" : atm_ivp\n",
    "\n",
    "})"
   ]
  },
  {
   "cell_type": "code",
   "execution_count": 133,
   "metadata": {},
   "outputs": [
    {
     "data": {
      "text/html": [
       "<div>\n",
       "<style scoped>\n",
       "    .dataframe tbody tr th:only-of-type {\n",
       "        vertical-align: middle;\n",
       "    }\n",
       "\n",
       "    .dataframe tbody tr th {\n",
       "        vertical-align: top;\n",
       "    }\n",
       "\n",
       "    .dataframe thead th {\n",
       "        text-align: right;\n",
       "    }\n",
       "</style>\n",
       "<table border=\"1\" class=\"dataframe\">\n",
       "  <thead>\n",
       "    <tr style=\"text-align: right;\">\n",
       "      <th></th>\n",
       "      <th>Date of Result</th>\n",
       "      <th>Script</th>\n",
       "      <th>ATM Price</th>\n",
       "      <th>ATM IV</th>\n",
       "      <th>IVP</th>\n",
       "      <th>Atm call iv</th>\n",
       "      <th>Atm call chng</th>\n",
       "    </tr>\n",
       "  </thead>\n",
       "  <tbody>\n",
       "    <tr>\n",
       "      <th>0</th>\n",
       "      <td>20 Jan</td>\n",
       "      <td>CANFINHOME</td>\n",
       "      <td>768.45 ( +0.10% )</td>\n",
       "      <td>36.2( -21.2)</td>\n",
       "      <td>65</td>\n",
       "      <td>36.2</td>\n",
       "      <td>-21.2</td>\n",
       "    </tr>\n",
       "    <tr>\n",
       "      <th>1</th>\n",
       "      <td>20 Jan</td>\n",
       "      <td>Kotak Mahindra Bank Ltd.</td>\n",
       "      <td>1810.70 ( +0.26% )</td>\n",
       "      <td>22.9( -18.5)</td>\n",
       "      <td>92</td>\n",
       "      <td>22.9</td>\n",
       "      <td>-18.5</td>\n",
       "    </tr>\n",
       "    <tr>\n",
       "      <th>2</th>\n",
       "      <td>20 Jan</td>\n",
       "      <td>IDFCFIRSTB</td>\n",
       "      <td>88.05 ( +0.11% )</td>\n",
       "      <td>48.1( -3.1)</td>\n",
       "      <td>100</td>\n",
       "      <td>48.1</td>\n",
       "      <td>-3.1</td>\n",
       "    </tr>\n",
       "    <tr>\n",
       "      <th>3</th>\n",
       "      <td>20 Jan</td>\n",
       "      <td>PERSISTENT</td>\n",
       "      <td>7940.00 ( +0.24% )</td>\n",
       "      <td>67.5( +1.5)</td>\n",
       "      <td>100</td>\n",
       "      <td>67.5</td>\n",
       "      <td>1.5</td>\n",
       "    </tr>\n",
       "    <tr>\n",
       "      <th>4</th>\n",
       "      <td>20 Jan</td>\n",
       "      <td>ICICI Bank Ltd.</td>\n",
       "      <td>1013.00 ( +0.29% )</td>\n",
       "      <td>40.6( -2.8)</td>\n",
       "      <td>100</td>\n",
       "      <td>40.6</td>\n",
       "      <td>-2.8</td>\n",
       "    </tr>\n",
       "    <tr>\n",
       "      <th>...</th>\n",
       "      <td>...</td>\n",
       "      <td>...</td>\n",
       "      <td>...</td>\n",
       "      <td>...</td>\n",
       "      <td>...</td>\n",
       "      <td>...</td>\n",
       "      <td>...</td>\n",
       "    </tr>\n",
       "    <tr>\n",
       "      <th>90</th>\n",
       "      <td>12 Feb</td>\n",
       "      <td>MOTHERSON</td>\n",
       "      <td>107.35 ( -0.05% )</td>\n",
       "      <td>33.4( -10.7)</td>\n",
       "      <td>53</td>\n",
       "      <td>33.4</td>\n",
       "      <td>-10.7</td>\n",
       "    </tr>\n",
       "    <tr>\n",
       "      <th>91</th>\n",
       "      <td>13 Feb</td>\n",
       "      <td>Bosch Ltd.</td>\n",
       "      <td>23050.55 ( -0.12% )</td>\n",
       "      <td>23.9( +5.6)</td>\n",
       "      <td>57</td>\n",
       "      <td>23.9</td>\n",
       "      <td>5.6</td>\n",
       "    </tr>\n",
       "    <tr>\n",
       "      <th>92</th>\n",
       "      <td>13 Feb</td>\n",
       "      <td>Hindalco Industries Ltd.</td>\n",
       "      <td>559.50 ( -0.18% )</td>\n",
       "      <td>23.5( -6.4)</td>\n",
       "      <td>10</td>\n",
       "      <td>23.5</td>\n",
       "      <td>-6.4</td>\n",
       "    </tr>\n",
       "    <tr>\n",
       "      <th>93</th>\n",
       "      <td>14 Feb</td>\n",
       "      <td>CROMPTON</td>\n",
       "      <td>311.00 ( +0.34% )</td>\n",
       "      <td>30.9( -3.1)</td>\n",
       "      <td>40</td>\n",
       "      <td>30.9</td>\n",
       "      <td>-3.1</td>\n",
       "    </tr>\n",
       "    <tr>\n",
       "      <th>94</th>\n",
       "      <td>20 Feb</td>\n",
       "      <td>ABB</td>\n",
       "      <td>4734.50 ( -0.21% )</td>\n",
       "      <td>29.1( -3.7)</td>\n",
       "      <td>63</td>\n",
       "      <td>29.1</td>\n",
       "      <td>-3.7</td>\n",
       "    </tr>\n",
       "  </tbody>\n",
       "</table>\n",
       "<p>95 rows × 7 columns</p>\n",
       "</div>"
      ],
      "text/plain": [
       "   Date of Result                    Script            ATM Price  \\\n",
       "0          20 Jan                CANFINHOME    768.45 ( +0.10% )   \n",
       "1          20 Jan  Kotak Mahindra Bank Ltd.   1810.70 ( +0.26% )   \n",
       "2          20 Jan                IDFCFIRSTB     88.05 ( +0.11% )   \n",
       "3          20 Jan                PERSISTENT   7940.00 ( +0.24% )   \n",
       "4          20 Jan           ICICI Bank Ltd.   1013.00 ( +0.29% )   \n",
       "..            ...                       ...                  ...   \n",
       "90         12 Feb                 MOTHERSON    107.35 ( -0.05% )   \n",
       "91         13 Feb                Bosch Ltd.  23050.55 ( -0.12% )   \n",
       "92         13 Feb  Hindalco Industries Ltd.    559.50 ( -0.18% )   \n",
       "93         14 Feb                  CROMPTON    311.00 ( +0.34% )   \n",
       "94         20 Feb                       ABB   4734.50 ( -0.21% )   \n",
       "\n",
       "          ATM IV  IVP  Atm call iv  Atm call chng  \n",
       "0   36.2( -21.2)   65         36.2          -21.2  \n",
       "1   22.9( -18.5)   92         22.9          -18.5  \n",
       "2    48.1( -3.1)  100         48.1           -3.1  \n",
       "3    67.5( +1.5)  100         67.5            1.5  \n",
       "4    40.6( -2.8)  100         40.6           -2.8  \n",
       "..           ...  ...          ...            ...  \n",
       "90  33.4( -10.7)   53         33.4          -10.7  \n",
       "91   23.9( +5.6)   57         23.9            5.6  \n",
       "92   23.5( -6.4)   10         23.5           -6.4  \n",
       "93   30.9( -3.1)   40         30.9           -3.1  \n",
       "94   29.1( -3.7)   63         29.1           -3.7  \n",
       "\n",
       "[95 rows x 7 columns]"
      ]
     },
     "execution_count": 133,
     "metadata": {},
     "output_type": "execute_result"
    }
   ],
   "source": [
    "Final_df"
   ]
  },
  {
   "cell_type": "markdown",
   "metadata": {},
   "source": [
    "## Random filtering"
   ]
  },
  {
   "cell_type": "code",
   "execution_count": 134,
   "metadata": {},
   "outputs": [],
   "source": [
    "Final_df['Atm call iv']= Final_df['ATM IV'].str.split( \"(\").str[0]\n",
    "Final_df['Atm call chng'] =Final_df['ATM IV'].str.split( \"(\").str[1].str[:-1]"
   ]
  },
  {
   "cell_type": "code",
   "execution_count": 135,
   "metadata": {},
   "outputs": [],
   "source": [
    "Final_df['Atm call iv']= Final_df['Atm call iv'].astype(float)\n",
    "Final_df['Atm call chng'] =Final_df['Atm call chng'].astype(float)\n"
   ]
  },
  {
   "cell_type": "code",
   "execution_count": null,
   "metadata": {},
   "outputs": [],
   "source": []
  },
  {
   "cell_type": "markdown",
   "metadata": {},
   "source": [
    "## Sort based on the req"
   ]
  },
  {
   "cell_type": "code",
   "execution_count": 136,
   "metadata": {},
   "outputs": [
    {
     "data": {
      "text/html": [
       "<div>\n",
       "<style scoped>\n",
       "    .dataframe tbody tr th:only-of-type {\n",
       "        vertical-align: middle;\n",
       "    }\n",
       "\n",
       "    .dataframe tbody tr th {\n",
       "        vertical-align: top;\n",
       "    }\n",
       "\n",
       "    .dataframe thead th {\n",
       "        text-align: right;\n",
       "    }\n",
       "</style>\n",
       "<table border=\"1\" class=\"dataframe\">\n",
       "  <thead>\n",
       "    <tr style=\"text-align: right;\">\n",
       "      <th></th>\n",
       "      <th>Date of Result</th>\n",
       "      <th>Script</th>\n",
       "      <th>ATM Price</th>\n",
       "      <th>ATM IV</th>\n",
       "      <th>IVP</th>\n",
       "      <th>Atm call iv</th>\n",
       "      <th>Atm call chng</th>\n",
       "    </tr>\n",
       "  </thead>\n",
       "  <tbody>\n",
       "    <tr>\n",
       "      <th>54</th>\n",
       "      <td>30 Jan</td>\n",
       "      <td>Larsen &amp; Toubro Ltd.</td>\n",
       "      <td>3635.50 ( +0.15% )</td>\n",
       "      <td>13.0( -8.4)</td>\n",
       "      <td>0</td>\n",
       "      <td>13.0</td>\n",
       "      <td>-8.4</td>\n",
       "    </tr>\n",
       "    <tr>\n",
       "      <th>81</th>\n",
       "      <td>07 Feb</td>\n",
       "      <td>TATACONSUM</td>\n",
       "      <td>1150.05 ( -0.10% )</td>\n",
       "      <td>14.3( -8.0)</td>\n",
       "      <td>8</td>\n",
       "      <td>14.3</td>\n",
       "      <td>-8.0</td>\n",
       "    </tr>\n",
       "    <tr>\n",
       "      <th>61</th>\n",
       "      <td>31 Jan</td>\n",
       "      <td>Sun Pharmaceutical Industries Ltd.</td>\n",
       "      <td>1329.70 ( +0.14% )</td>\n",
       "      <td>15.5( -5.2)</td>\n",
       "      <td>21</td>\n",
       "      <td>15.5</td>\n",
       "      <td>-5.2</td>\n",
       "    </tr>\n",
       "    <tr>\n",
       "      <th>76</th>\n",
       "      <td>05 Feb</td>\n",
       "      <td>Bharti Airtel Ltd.</td>\n",
       "      <td>1122.25 ( -0.03% )</td>\n",
       "      <td>15.6( -4.3)</td>\n",
       "      <td>20</td>\n",
       "      <td>15.6</td>\n",
       "      <td>-4.3</td>\n",
       "    </tr>\n",
       "    <tr>\n",
       "      <th>59</th>\n",
       "      <td>31 Jan</td>\n",
       "      <td>Maruti Suzuki India Ltd.</td>\n",
       "      <td>9968.10 ( +0.02% )</td>\n",
       "      <td>15.7( -5.6)</td>\n",
       "      <td>8</td>\n",
       "      <td>15.7</td>\n",
       "      <td>-5.6</td>\n",
       "    </tr>\n",
       "    <tr>\n",
       "      <th>...</th>\n",
       "      <td>...</td>\n",
       "      <td>...</td>\n",
       "      <td>...</td>\n",
       "      <td>...</td>\n",
       "      <td>...</td>\n",
       "      <td>...</td>\n",
       "      <td>...</td>\n",
       "    </tr>\n",
       "    <tr>\n",
       "      <th>67</th>\n",
       "      <td>01 Feb</td>\n",
       "      <td>ABBOTINDIA</td>\n",
       "      <td>25287.50 ( +0.32% )</td>\n",
       "      <td>59.0( +33.0)</td>\n",
       "      <td>100</td>\n",
       "      <td>59.0</td>\n",
       "      <td>33.0</td>\n",
       "    </tr>\n",
       "    <tr>\n",
       "      <th>5</th>\n",
       "      <td>20 Jan</td>\n",
       "      <td>JKCEMENT</td>\n",
       "      <td>3975.05 ( -0.56% )</td>\n",
       "      <td>65.0( +35.8)</td>\n",
       "      <td>100</td>\n",
       "      <td>65.0</td>\n",
       "      <td>35.8</td>\n",
       "    </tr>\n",
       "    <tr>\n",
       "      <th>3</th>\n",
       "      <td>20 Jan</td>\n",
       "      <td>PERSISTENT</td>\n",
       "      <td>7940.00 ( +0.24% )</td>\n",
       "      <td>67.5( +1.5)</td>\n",
       "      <td>100</td>\n",
       "      <td>67.5</td>\n",
       "      <td>1.5</td>\n",
       "    </tr>\n",
       "    <tr>\n",
       "      <th>8</th>\n",
       "      <td>22 Jan</td>\n",
       "      <td>COFORGE</td>\n",
       "      <td>6317.00 ( +0.26% )</td>\n",
       "      <td>78.3( +18.4)</td>\n",
       "      <td>100</td>\n",
       "      <td>78.3</td>\n",
       "      <td>18.4</td>\n",
       "    </tr>\n",
       "    <tr>\n",
       "      <th>35</th>\n",
       "      <td>25 Jan</td>\n",
       "      <td>IEX</td>\n",
       "      <td>142.65 ( +0.11% )</td>\n",
       "      <td>126.4( +81.2)</td>\n",
       "      <td>100</td>\n",
       "      <td>126.4</td>\n",
       "      <td>81.2</td>\n",
       "    </tr>\n",
       "  </tbody>\n",
       "</table>\n",
       "<p>95 rows × 7 columns</p>\n",
       "</div>"
      ],
      "text/plain": [
       "   Date of Result                              Script            ATM Price  \\\n",
       "54         30 Jan                Larsen & Toubro Ltd.   3635.50 ( +0.15% )   \n",
       "81         07 Feb                          TATACONSUM   1150.05 ( -0.10% )   \n",
       "61         31 Jan  Sun Pharmaceutical Industries Ltd.   1329.70 ( +0.14% )   \n",
       "76         05 Feb                  Bharti Airtel Ltd.   1122.25 ( -0.03% )   \n",
       "59         31 Jan            Maruti Suzuki India Ltd.   9968.10 ( +0.02% )   \n",
       "..            ...                                 ...                  ...   \n",
       "67         01 Feb                          ABBOTINDIA  25287.50 ( +0.32% )   \n",
       "5          20 Jan                            JKCEMENT   3975.05 ( -0.56% )   \n",
       "3          20 Jan                          PERSISTENT   7940.00 ( +0.24% )   \n",
       "8          22 Jan                             COFORGE   6317.00 ( +0.26% )   \n",
       "35         25 Jan                                 IEX    142.65 ( +0.11% )   \n",
       "\n",
       "           ATM IV  IVP  Atm call iv  Atm call chng  \n",
       "54    13.0( -8.4)    0         13.0           -8.4  \n",
       "81    14.3( -8.0)    8         14.3           -8.0  \n",
       "61    15.5( -5.2)   21         15.5           -5.2  \n",
       "76    15.6( -4.3)   20         15.6           -4.3  \n",
       "59    15.7( -5.6)    8         15.7           -5.6  \n",
       "..            ...  ...          ...            ...  \n",
       "67   59.0( +33.0)  100         59.0           33.0  \n",
       "5    65.0( +35.8)  100         65.0           35.8  \n",
       "3     67.5( +1.5)  100         67.5            1.5  \n",
       "8    78.3( +18.4)  100         78.3           18.4  \n",
       "35  126.4( +81.2)  100        126.4           81.2  \n",
       "\n",
       "[95 rows x 7 columns]"
      ]
     },
     "execution_count": 136,
     "metadata": {},
     "output_type": "execute_result"
    }
   ],
   "source": [
    "Final_df.sort_values(by = [\"Atm call iv\",\"Atm call chng\"])"
   ]
  },
  {
   "cell_type": "markdown",
   "metadata": {},
   "source": [
    "## Filtered df as per next 7 days"
   ]
  },
  {
   "cell_type": "code",
   "execution_count": 137,
   "metadata": {},
   "outputs": [],
   "source": [
    "#Get the current date\n",
    "current_date = datetime.now().date()"
   ]
  },
  {
   "cell_type": "code",
   "execution_count": 138,
   "metadata": {},
   "outputs": [],
   "source": [
    "driver.quit()"
   ]
  },
  {
   "cell_type": "code",
   "execution_count": null,
   "metadata": {},
   "outputs": [],
   "source": []
  }
 ],
 "metadata": {
  "kernelspec": {
   "display_name": "Python 3",
   "language": "python",
   "name": "python3"
  },
  "language_info": {
   "codemirror_mode": {
    "name": "ipython",
    "version": 3
   },
   "file_extension": ".py",
   "mimetype": "text/x-python",
   "name": "python",
   "nbconvert_exporter": "python",
   "pygments_lexer": "ipython3",
   "version": "3.10.2"
  }
 },
 "nbformat": 4,
 "nbformat_minor": 2
}
